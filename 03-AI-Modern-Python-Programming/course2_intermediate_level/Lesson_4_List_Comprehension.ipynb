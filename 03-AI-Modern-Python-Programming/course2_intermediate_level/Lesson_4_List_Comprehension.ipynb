{
  "nbformat": 4,
  "nbformat_minor": 0,
  "metadata": {
    "colab": {
      "provenance": [],
      "include_colab_link": true
    },
    "kernelspec": {
      "name": "python3",
      "display_name": "Python 3"
    },
    "language_info": {
      "name": "python"
    }
  },
  "cells": [
    {
      "cell_type": "markdown",
      "metadata": {
        "id": "view-in-github",
        "colab_type": "text"
      },
      "source": [
        "<a href=\"https://colab.research.google.com/github/iamKhan79690/Boss-Level-Game/blob/main/03-AI-Modern-Python-Programming/course2_intermediate_level/Lesson_4_List_Comprehension.ipynb\" target=\"_parent\"><img src=\"https://colab.research.google.com/assets/colab-badge.svg\" alt=\"Open In Colab\"/></a>"
      ]
    },
    {
      "cell_type": "markdown",
      "source": [
        "# Introduction to List Comprehensions in Python\n",
        "\n",
        "## What is List Comprehension?\n",
        "\n",
        "List comprehension is a concise way to create lists in Python. It allows we to generate a new list by applying an expression to each item in an existing iterable (such as a list, tuple,range, dictionary) and optionally applying a condition to filter the items.\n",
        "\n",
        "## Why Do We Need List Comprehensions?\n",
        "\n"
      ],
      "metadata": {
        "id": "bDTyXjdpQiqB"
      }
    },
    {
      "cell_type": "code",
      "source": [],
      "metadata": {
        "id": "JVLlZeIme8Rw"
      },
      "execution_count": null,
      "outputs": []
    },
    {
      "cell_type": "markdown",
      "source": [
        "### The Problem: Creating Lists Using Loops\n",
        "\n",
        "Consider a scenario where we want to `create a list of squares for the numbers 1 through 5`. A typical approach might involve using a `for` loop:\n",
        "\n",
        "While this works, it requires multiple lines of code: one to initialize the list, one for the loop, and one to append each result. As the complexity of the list generation increases, so does the amount of code needed.\n"
      ],
      "metadata": {
        "id": "Hco1XNSMQ8KE"
      }
    },
    {
      "cell_type": "code",
      "execution_count": null,
      "metadata": {
        "id": "8AWF27kyQQfR"
      },
      "outputs": [],
      "source": [
        "squares : list[int]  = []\n",
        "for x in range(1, 6):\n",
        "    squares.append(x**2)\n",
        "\n",
        "print(squares)"
      ]
    },
    {
      "cell_type": "markdown",
      "source": [
        "### The Solution: Simplify Code with List Comprehensions\n",
        "\n",
        "List comprehensions provide a more elegant and concise way to achieve the same result. We can generate the list of squares in a single line:\n"
      ],
      "metadata": {
        "id": "kItaQEjCRQc1"
      }
    },
    {
      "cell_type": "code",
      "source": [
        "squares : list[int] = [x**2 for x in range(1, 6)]\n",
        "print(squares)"
      ],
      "metadata": {
        "id": "ybezfIgrRRrz"
      },
      "execution_count": null,
      "outputs": []
    },
    {
      "cell_type": "markdown",
      "source": [
        "This approach is not only more readable but also often more efficient.\n",
        "\n",
        "## How List Comprehensions Work\n",
        "\n",
        "### Basic Syntax\n",
        "\n",
        "The basic syntax of a list comprehension is:\n",
        "\n",
        "```python\n",
        "[expression for item in iterable]\n",
        "```\n",
        "\n",
        "Where:\n",
        "- `expression` is the value to be included in the new list.It specifies what each item in the new list will look like\n",
        "- `item` represents each element in the `iterable` (e.g., list, range, etc.).\n",
        "- `iterable` is the collection or range we're iterating over.\n"
      ],
      "metadata": {
        "id": "OYUevrEYRgji"
      }
    },
    {
      "cell_type": "markdown",
      "source": [
        "### Example: Creating a List of Squares\n"
      ],
      "metadata": {
        "id": "_8phEkHKRptX"
      }
    },
    {
      "cell_type": "code",
      "source": [
        "squares : list[int] = [x**2 for x in range(1, 6)]\n",
        "print(squares)"
      ],
      "metadata": {
        "id": "XZGRJuN6Rqpw"
      },
      "execution_count": null,
      "outputs": []
    },
    {
      "cell_type": "markdown",
      "source": [
        "### Adding Conditions: Filtering with List Comprehensions\n",
        "\n",
        "We can add an optional condition to filter the elements being processed by the list comprehension.\n"
      ],
      "metadata": {
        "id": "WrQjnVPCR1U0"
      }
    },
    {
      "cell_type": "markdown",
      "source": [
        "#### Example1: Creating a List of Even Squares\n"
      ],
      "metadata": {
        "id": "BkhYFHOyR2YU"
      }
    },
    {
      "cell_type": "code",
      "source": [
        "even_squares : list[int] = [x**2 for x in range(1, 11) if x % 2 == 0]\n",
        "print(even_squares)"
      ],
      "metadata": {
        "id": "bXgsvi4_R53E"
      },
      "execution_count": null,
      "outputs": []
    },
    {
      "cell_type": "markdown",
      "source": [
        "In this example, the list comprehension includes only even numbers (i.e., `x % 2 == 0`) before calculating the square.\n",
        "*italicized text*"
      ],
      "metadata": {
        "id": "4pFf2m3kSB_w"
      }
    },
    {
      "cell_type": "markdown",
      "source": [
        "#### Example2: Creating a List of Even Squares\n"
      ],
      "metadata": {
        "id": "GierrjTEWFEl"
      }
    },
    {
      "cell_type": "code",
      "source": [
        "numbers: list[int] = [2, 4, 6, 8]\n",
        "squares: list[int] = []\n",
        "\n",
        "for number in numbers:\n",
        "    square = number**2\n",
        "    squares.append(square)\n",
        "    # squares.append(number**2)\n",
        "\n",
        "print(squares)"
      ],
      "metadata": {
        "id": "jnfwIgscWMDe"
      },
      "execution_count": null,
      "outputs": []
    },
    {
      "cell_type": "code",
      "source": [
        "# [expression for item in iterable]\n",
        "squares2 = [number**2 for number in numbers]\n",
        "print(squares2)"
      ],
      "metadata": {
        "id": "iuje3YnmWS3z"
      },
      "execution_count": null,
      "outputs": []
    },
    {
      "cell_type": "code",
      "source": [
        "# list of even square from 1 to 5 in range\n",
        "square3 :list[int] = [num**2 for num in range(1,6) if num % 2 == 0]\n",
        "print(square3)"
      ],
      "metadata": {
        "id": "LzocCsuyvOKy"
      },
      "execution_count": null,
      "outputs": []
    },
    {
      "cell_type": "markdown",
      "source": [
        "### Method Finding through List Comprehension"
      ],
      "metadata": {
        "id": "8yzLO_3rWjZ4"
      }
    },
    {
      "cell_type": "code",
      "source": [
        "print(dir(str))\n",
        "methods = [method for method in dir(str) if '__' not in method]\n",
        "print(methods)"
      ],
      "metadata": {
        "id": "VPy7MsutWrNB"
      },
      "execution_count": null,
      "outputs": []
    },
    {
      "cell_type": "markdown",
      "source": [
        "### Ternary Operator with List Comprehension\n",
        "syntax:\n",
        "\n",
        "`[expression_if_true if condition else expression_if_false for item in iterable]\n",
        "`"
      ],
      "metadata": {
        "id": "wq0syTlxoIW1"
      }
    },
    {
      "cell_type": "code",
      "source": [
        "list_num : list[int] = [1, 2, 3, 4, 5, 6, 7, 8, 9, 10]\n",
        "list_str : list[str] = [\"Even\" if x%2== 0 else \"Odd\" for x in list_num]\n",
        "print(list_str)"
      ],
      "metadata": {
        "id": "4eERiPYioZGZ"
      },
      "execution_count": null,
      "outputs": []
    },
    {
      "cell_type": "markdown",
      "source": [
        "## Conclusion\n",
        "\n",
        "List comprehensions are a powerful feature in Python that allows for clean, concise, and efficient list creation. Whether we're generating simple lists or working with more complex data transformations, list comprehensions can significantly streamline our code."
      ],
      "metadata": {
        "id": "JCpveJX9SaAi"
      }
    },
    {
      "cell_type": "markdown",
      "source": [
        "## Projects\n"
      ],
      "metadata": {
        "id": "yZArYIwDLv4m"
      }
    },
    {
      "cell_type": "code",
      "source": [],
      "metadata": {
        "id": "fSf4GfadfFQk"
      },
      "execution_count": null,
      "outputs": []
    },
    {
      "cell_type": "markdown",
      "source": [
        "### Project 1: List of Squares\n",
        "Write a program using list comprehension to:\n",
        "- Generate a list of squares for numbers from 1 to 20.\n",
        "- Filter the list to include only even squares.\n"
      ],
      "metadata": {
        "id": "8ZotircpLyhr"
      }
    },
    {
      "cell_type": "code",
      "source": [
        "even_squares = [x**2 for x in range(1, 21) if (x**2) % 2 == 0]\n",
        "\n",
        "print(even_squares)\n"
      ],
      "metadata": {
        "colab": {
          "base_uri": "https://localhost:8080/"
        },
        "id": "c6-PUUhjfGUm",
        "outputId": "54f6e7e0-aa39-4d34-a2b4-e21f232977d5"
      },
      "execution_count": 1,
      "outputs": [
        {
          "output_type": "stream",
          "name": "stdout",
          "text": [
            "[4, 16, 36, 64, 100, 144, 196, 256, 324, 400]\n"
          ]
        }
      ]
    },
    {
      "cell_type": "markdown",
      "source": [
        "### Project 2: Method Finder\n",
        "Create a Python program to:\n",
        "- Use list comprehension to retrieve all methods of a given object (e.g., `list`).\n",
        "- Filter out methods that start and end with double underscores.\n"
      ],
      "metadata": {
        "id": "-LOoINcqL36D"
      }
    },
    {
      "cell_type": "code",
      "source": [
        "def get_filtered_methods(obj):\n",
        "\n",
        "    methods = [method for method in dir(obj) if callable(getattr(obj, method)) and not (method.startswith('__') and method.endswith('__'))]\n",
        "    return methods\n",
        "\n",
        "list_methods = get_filtered_methods([])\n",
        "print(\"Filtered methods of list:\", list_methods)\n"
      ],
      "metadata": {
        "colab": {
          "base_uri": "https://localhost:8080/"
        },
        "id": "ouTFo6qWfn59",
        "outputId": "90d2fe59-b839-4da3-bc73-0fab483b7ccd"
      },
      "execution_count": 2,
      "outputs": [
        {
          "output_type": "stream",
          "name": "stdout",
          "text": [
            "Filtered methods of list: ['append', 'clear', 'copy', 'count', 'extend', 'index', 'insert', 'pop', 'remove', 'reverse', 'sort']\n"
          ]
        }
      ]
    },
    {
      "cell_type": "markdown",
      "source": [
        "### Project 3: Temperature Converter\n",
        "Develop a Python script to:\n",
        "- Create a list of celsius temperature\n",
        "- Convert the list of temperatures in Celsius to Fahrenheit using list comprehension.\n",
        "- using formula i.e. F=(C×\n",
        "5/\n",
        "9\n",
        "​\n",
        " )+32"
      ],
      "metadata": {
        "id": "8zW__u-VL8Yh"
      }
    },
    {
      "cell_type": "code",
      "source": [
        "celsius_temps = [0, 10, 20, 30, 40, 50, 100]\n",
        "\n",
        "fahrenheit_temps = [(C * 9/5) + 32 for C in celsius_temps]\n",
        "\n",
        "print(\"Temperatures in Celsius:\", celsius_temps)\n",
        "print(\"Temperatures in Fahrenheit:\", fahrenheit_temps)\n"
      ],
      "metadata": {
        "colab": {
          "base_uri": "https://localhost:8080/"
        },
        "id": "N12SgJaUfCdm",
        "outputId": "86182127-39d3-4162-8f2d-534d24ebca24"
      },
      "execution_count": 3,
      "outputs": [
        {
          "output_type": "stream",
          "name": "stdout",
          "text": [
            "Temperatures in Celsius: [0, 10, 20, 30, 40, 50, 100]\n",
            "Temperatures in Fahrenheit: [32.0, 50.0, 68.0, 86.0, 104.0, 122.0, 212.0]\n"
          ]
        }
      ]
    },
    {
      "cell_type": "markdown",
      "source": [
        "### Project 4: Common Elements Finder\n",
        "Create a program to:\n",
        "- Create two lists\n",
        "- Use list comprehension to find the common elements between the two lists.\n",
        "- Return a new list of the common elements.\n"
      ],
      "metadata": {
        "id": "-ljl42tEL_NS"
      }
    },
    {
      "cell_type": "code",
      "source": [
        "list1 = [1, 2, 3, 4, 5, 6]\n",
        "list2 = [4, 5, 6, 7, 8, 9]\n",
        "\n",
        "common_elements = [item for item in list1 if item in list2]\n",
        "\n",
        "print(\"List 1:\", list1)\n",
        "print(\"List 2:\", list2)\n",
        "print(\"Common elements:\", common_elements)\n"
      ],
      "metadata": {
        "colab": {
          "base_uri": "https://localhost:8080/"
        },
        "id": "EejmC_wRgDOg",
        "outputId": "2d80b4f3-9558-4a56-fa7a-ca82bf123377"
      },
      "execution_count": 4,
      "outputs": [
        {
          "output_type": "stream",
          "name": "stdout",
          "text": [
            "List 1: [1, 2, 3, 4, 5, 6]\n",
            "List 2: [4, 5, 6, 7, 8, 9]\n",
            "Common elements: [4, 5, 6]\n"
          ]
        }
      ]
    },
    {
      "cell_type": "markdown",
      "source": [
        "### Project 5: Filter Names\n",
        "Design a Python script that:\n",
        "- Takes a list of names.\n",
        "- Uses list comprehension to filter names starting with a specific letter provided by the user.\n",
        "- using string function startswith() for filter names"
      ],
      "metadata": {
        "id": "7cFZyZJqMDhR"
      }
    },
    {
      "cell_type": "code",
      "source": [
        "names = [\"Anas\", \"dasa\", \"Asad\", \"Duwa\", \"Elvish\", \"Freak\"]\n",
        "\n",
        "letter = input(\"Enter the starting letter of names: \").strip()\n",
        "\n",
        "filtered_names = [name for name in names if name.startswith(letter)]\n",
        "\n",
        "print(f\"Names starting with '{letter}':\")\n",
        "print(filtered_names)\n"
      ],
      "metadata": {
        "colab": {
          "base_uri": "https://localhost:8080/"
        },
        "id": "BMHd3DIJgQFh",
        "outputId": "a0462e59-6aa3-4db7-c1a7-a26fad66425e"
      },
      "execution_count": 9,
      "outputs": [
        {
          "output_type": "stream",
          "name": "stdout",
          "text": [
            "Enter the starting letter of names: A\n",
            "Names starting with 'A':\n",
            "['Anas', 'Asad']\n"
          ]
        }
      ]
    },
    {
      "cell_type": "markdown",
      "source": [
        "### Project 6: Vowel Counter\n",
        "Write a program to:\n",
        "- Accept a sentence from the user.\n",
        "- Use list comprehension to count the number of vowels in the sentence."
      ],
      "metadata": {
        "id": "CcZpILHwMGn0"
      }
    },
    {
      "cell_type": "code",
      "source": [
        "sentence = input(\"Enter a sentence: \")\n",
        "\n",
        "vowels = \"aeiouAEIOU\"\n",
        "letters = [x for x in sentence if x in vowels]\n",
        "print(letters)\n",
        "print(len(letters))\n",
        ""
      ],
      "metadata": {
        "colab": {
          "base_uri": "https://localhost:8080/"
        },
        "id": "GQlQVcrwin-k",
        "outputId": "afa3060e-8338-4c22-9c35-af753ce0d93c"
      },
      "execution_count": 10,
      "outputs": [
        {
          "output_type": "stream",
          "name": "stdout",
          "text": [
            "Enter a sentence: asad\n",
            "['a', 'a']\n",
            "2\n"
          ]
        }
      ]
    }
  ]
}