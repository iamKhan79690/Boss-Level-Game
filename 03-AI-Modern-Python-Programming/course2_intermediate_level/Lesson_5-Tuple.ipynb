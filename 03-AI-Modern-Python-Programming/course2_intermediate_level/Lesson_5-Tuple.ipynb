{
  "cells": [
    {
      "cell_type": "markdown",
      "metadata": {
        "id": "view-in-github",
        "colab_type": "text"
      },
      "source": [
        "<a href=\"https://colab.research.google.com/github/iamKhan79690/Boss-Level-Game/blob/main/03-AI-Modern-Python-Programming/course2_intermediate_level/Lesson_5-Tuple.ipynb\" target=\"_parent\"><img src=\"https://colab.research.google.com/assets/colab-badge.svg\" alt=\"Open In Colab\"/></a>"
      ]
    },
    {
      "cell_type": "markdown",
      "id": "69326cad",
      "metadata": {
        "id": "69326cad"
      },
      "source": [
        "# Introduction to Tuples in Python\n",
        "\n",
        "## What is a Tuple?\n",
        "\n",
        "A tuple is an immutable, ordered collection of elements in Python. Tuples are similar to lists, but unlike lists, the elements of a tuple cannot be modified after it is created. Tuples are defined by enclosing elements in parentheses `()` and separating them with commas.\n",
        "\n",
        "### Key Features of Tuples:\n",
        "\n",
        "- **Immutable**: Once created, the elements of a tuple cannot be changed.\n",
        "- **Ordered**: Tuples maintain the order of elements. via index\n",
        "- **Heterogeneous**: Tuples can contain elements of different data types.\n",
        "- **Hashable**: Tuples can be used as keys in dictionaries if all their elements are hashable. Because dictionary's key is also immutable."
      ]
    },
    {
      "cell_type": "code",
      "execution_count": null,
      "id": "0c1f5705",
      "metadata": {
        "id": "0c1f5705"
      },
      "outputs": [],
      "source": [
        "tuple_example : tuple[int,str,float]= (1, \"apple\", 3.14)\n",
        "print(tuple_example)"
      ]
    },
    {
      "cell_type": "markdown",
      "id": "99d909d8",
      "metadata": {
        "id": "99d909d8"
      },
      "source": [
        "## Why Use Tuples?\n",
        "\n",
        "### The Problem: Need for Immutable Data\n",
        "\n",
        "In scenarios where you want to ensure the data remains constant throughout the program, lists might not be ideal due to their mutability. For instance, configuration settings or fixed data collections can benefit from immutability.\n",
        "\n",
        "### The Solution: Tuples for Immutable Collections\n",
        "\n",
        "Tuples provide a way to create collections that cannot be altered, ensuring data integrity and consistency."
      ]
    },
    {
      "cell_type": "markdown",
      "id": "6a1823f9",
      "metadata": {
        "id": "6a1823f9"
      },
      "source": [
        "## How Tuples Work\n",
        "\n",
        "### Creating a Tuple\n",
        "\n",
        "Tuples can be created in several ways:"
      ]
    },
    {
      "cell_type": "markdown",
      "id": "842f2ea2",
      "metadata": {
        "id": "842f2ea2"
      },
      "source": [
        "1. **Using Parentheses:**"
      ]
    },
    {
      "cell_type": "code",
      "execution_count": null,
      "id": "9e2dbb52",
      "metadata": {
        "id": "9e2dbb52"
      },
      "outputs": [],
      "source": [
        "fruits = (\"apple\", \"banana\", \"cherry\")\n",
        "print(fruits)"
      ]
    },
    {
      "cell_type": "markdown",
      "id": "035df994",
      "metadata": {
        "id": "035df994"
      },
      "source": [
        "2. **Without Parentheses:**"
      ]
    },
    {
      "cell_type": "code",
      "execution_count": null,
      "id": "59245575",
      "metadata": {
        "id": "59245575",
        "colab": {
          "base_uri": "https://localhost:8080/"
        },
        "outputId": "ce13a444-34e4-4962-b535-8ed9d39f12c6"
      },
      "outputs": [
        {
          "output_type": "stream",
          "name": "stdout",
          "text": [
            "(1, 2, 3)\n"
          ]
        }
      ],
      "source": [
        "numbers = 1, 2, 3\n",
        "print(numbers)"
      ]
    },
    {
      "cell_type": "markdown",
      "id": "5b3847aa",
      "metadata": {
        "id": "5b3847aa"
      },
      "source": [
        "3. **Using the `tuple` Constructor:**"
      ]
    },
    {
      "cell_type": "code",
      "execution_count": null,
      "id": "13c25087",
      "metadata": {
        "id": "13c25087",
        "colab": {
          "base_uri": "https://localhost:8080/"
        },
        "outputId": "66701069-3c73-4f09-a848-0cc6df93ece3"
      },
      "outputs": [
        {
          "output_type": "stream",
          "name": "stdout",
          "text": [
            "(1, 2, 3)\n"
          ]
        }
      ],
      "source": [
        "tuple_from_list = tuple([1, 2, 3])\n",
        "print(tuple_from_list)\n",
        "\n"
      ]
    },
    {
      "cell_type": "markdown",
      "source": [
        "4. **Using the `range` function:**"
      ],
      "metadata": {
        "id": "-NuVAO0tGjWP"
      },
      "id": "-NuVAO0tGjWP"
    },
    {
      "cell_type": "code",
      "source": [
        "# Creating a tuple (1, 2, 3, 4, 5) using the range function\n",
        "my_tuple = tuple(range(1, 6))\n",
        "print(my_tuple)\n"
      ],
      "metadata": {
        "id": "97REVJiwGwh7"
      },
      "id": "97REVJiwGwh7",
      "execution_count": null,
      "outputs": []
    },
    {
      "cell_type": "markdown",
      "id": "d552b09c",
      "metadata": {
        "id": "d552b09c"
      },
      "source": [
        "### Accessing Elements\n",
        "\n",
        "Tuples support indexing and slicing to access their elements:"
      ]
    },
    {
      "cell_type": "code",
      "execution_count": null,
      "id": "bae7ec2f",
      "metadata": {
        "id": "bae7ec2f"
      },
      "outputs": [],
      "source": [
        "fruits = (\"apple\", \"banana\", \"cherry\")\n",
        "print(fruits[0])  # Output: apple\n",
        "print(fruits[1:]) # Output: ('banana', 'cherry')\n",
        "\n"
      ]
    },
    {
      "cell_type": "markdown",
      "id": "b8d679e3",
      "metadata": {
        "id": "b8d679e3"
      },
      "source": [
        "### Tuple Unpacking\n",
        "\n",
        "Tuples allow unpacking into individual variables:"
      ]
    },
    {
      "cell_type": "code",
      "execution_count": null,
      "id": "9186a8a6",
      "metadata": {
        "id": "9186a8a6"
      },
      "outputs": [],
      "source": [
        "coordinates = (10, 20)\n",
        "x, y = coordinates\n",
        "print(x, y)  # Output: 10 20"
      ]
    },
    {
      "cell_type": "markdown",
      "id": "d4a64af5",
      "metadata": {
        "id": "d4a64af5"
      },
      "source": [
        "### Nested Tuples\n",
        "\n",
        "Tuples can be nested:"
      ]
    },
    {
      "cell_type": "code",
      "execution_count": null,
      "id": "83d8426e",
      "metadata": {
        "id": "83d8426e"
      },
      "outputs": [],
      "source": [
        "nested_tuple = ((1, 2), (3, 4))\n",
        "print(nested_tuple[0])  # Output: (1, 2)"
      ]
    },
    {
      "cell_type": "markdown",
      "id": "2b409efe",
      "metadata": {
        "id": "2b409efe"
      },
      "source": [
        "## Common Tuple Operations\n",
        "\n",
        "### Concatenation\n",
        "\n",
        "Combine tuples using the `+` operator:"
      ]
    },
    {
      "cell_type": "code",
      "execution_count": null,
      "id": "a5ded04c",
      "metadata": {
        "id": "a5ded04c"
      },
      "outputs": [],
      "source": [
        "tuple1 = (1, 2)\n",
        "tuple2 = (3, 4)\n",
        "result = tuple1 + tuple2\n",
        "print(result)  # Output: (1, 2, 3, 4)"
      ]
    },
    {
      "cell_type": "markdown",
      "id": "49425cd2",
      "metadata": {
        "id": "49425cd2"
      },
      "source": [
        "### Repetition\n",
        "\n",
        "Repeat tuples using the `*` operator:"
      ]
    },
    {
      "cell_type": "code",
      "execution_count": null,
      "id": "79fb6d1f",
      "metadata": {
        "id": "79fb6d1f"
      },
      "outputs": [],
      "source": [
        "repeated_tuple : tuple[str] = (\"A\",) * 3\n",
        "print(repeated_tuple)  # Output: ('A', 'A', 'A')\n",
        "\n"
      ]
    },
    {
      "cell_type": "markdown",
      "id": "335df9d3",
      "metadata": {
        "id": "335df9d3"
      },
      "source": [
        "### Membership Test\n",
        "\n",
        "Check if an element exists in a tuple using the `in` keyword:"
      ]
    },
    {
      "cell_type": "code",
      "execution_count": null,
      "id": "43ac6c7a",
      "metadata": {
        "id": "43ac6c7a"
      },
      "outputs": [],
      "source": [
        "fruits : tuple[str] = (\"apple\", \"banana\")\n",
        "print(\"apple\" in fruits)  # Output: True"
      ]
    },
    {
      "cell_type": "markdown",
      "id": "4ea1e0c6",
      "metadata": {
        "id": "4ea1e0c6"
      },
      "source": [
        "### Tuple Methods\n",
        "\n",
        "Tuples have two built-in methods:"
      ]
    },
    {
      "cell_type": "markdown",
      "id": "7442727c",
      "metadata": {
        "id": "7442727c"
      },
      "source": [
        "1. `.count()`: Counts occurrences of a value."
      ]
    },
    {
      "cell_type": "code",
      "execution_count": null,
      "id": "071763ea",
      "metadata": {
        "id": "071763ea"
      },
      "outputs": [],
      "source": [
        "numbers : tuple[int] = (1, 2, 2, 3)\n",
        "print(numbers.count(2))  # Output: 2"
      ]
    },
    {
      "cell_type": "markdown",
      "id": "534bdcb2",
      "metadata": {
        "id": "534bdcb2"
      },
      "source": [
        "2. `.index()`: Returns the first index of a value."
      ]
    },
    {
      "cell_type": "code",
      "execution_count": null,
      "id": "b502a75e",
      "metadata": {
        "id": "b502a75e"
      },
      "outputs": [],
      "source": [
        "numbers : tuple[int] = (1, 2, 3)\n",
        "print(numbers.index(2))  # Output: 1"
      ]
    },
    {
      "cell_type": "markdown",
      "source": [
        "### Iterating Over a Tuple"
      ],
      "metadata": {
        "id": "xXOlBmwQjfkz"
      },
      "id": "xXOlBmwQjfkz"
    },
    {
      "cell_type": "code",
      "source": [
        "my_tuple = ('apple', 'banana', 'cherry')\n",
        "for fruit in my_tuple:\n",
        "    print(fruit)"
      ],
      "metadata": {
        "id": "FOWlODFDji_Z"
      },
      "id": "FOWlODFDji_Z",
      "execution_count": null,
      "outputs": []
    },
    {
      "cell_type": "markdown",
      "source": [
        "### Storing Related Data\n",
        "Tuples can store related data, like coordinates or RGB color values."
      ],
      "metadata": {
        "id": "lPqPfIOEjuuI"
      },
      "id": "lPqPfIOEjuuI"
    },
    {
      "cell_type": "code",
      "source": [
        "point = (10, 20)\n",
        "color = (255, 0, 0)\n",
        "\n",
        "print(point)  # Output: (10, 20)\n",
        "print(color)  # Output: (255, 0, 0)"
      ],
      "metadata": {
        "id": "V90gQFBzj3H-"
      },
      "id": "V90gQFBzj3H-",
      "execution_count": null,
      "outputs": []
    },
    {
      "cell_type": "markdown",
      "id": "5b77f7a5",
      "metadata": {
        "id": "5b77f7a5"
      },
      "source": [
        "## Applications of Tuples\n",
        "\n",
        "### Using Tuples as Dictionary Keys\n",
        "\n",
        "Since tuples are immutable, they can be used as keys in dictionaries:\n",
        "\n",
        "Hashable: Tuples can be used as keys in dictionaries if all their elements are hashable.\n",
        "\n",
        "Hashable objects cannot be changed after their creation. For example, integers, floats, strings, and tuples (with hashable elements) are hashable because they are immutable."
      ]
    },
    {
      "cell_type": "code",
      "execution_count": null,
      "id": "3ed7b1f2",
      "metadata": {
        "id": "3ed7b1f2"
      },
      "outputs": [],
      "source": [
        "# simple_dictionary : dict[str,int] = {\n",
        "#     \"Ali\" : 59,\n",
        "#     \"Asim\" : 78\n",
        "# }\n",
        "\n",
        "locations : tuple = { (10, 20): \"Park\", (30, 40): \"Mall\" }\n",
        "print(locations[(10, 20)])  # Output: Park\n",
        "\n"
      ]
    },
    {
      "cell_type": "markdown",
      "id": "24ee5d25",
      "metadata": {
        "id": "24ee5d25"
      },
      "source": [
        "### Returning Multiple Values from Functions(after function lesson complete)\n",
        "\n",
        "Tuples are often used to return multiple values:"
      ]
    },
    {
      "cell_type": "code",
      "execution_count": null,
      "id": "1effb047",
      "metadata": {
        "id": "1effb047"
      },
      "outputs": [],
      "source": [
        "def min_max(numbers):\n",
        "    return min(numbers), max(numbers)\n",
        "\n",
        "result = min_max([1, 2, 3, 4])\n",
        "print(result)  # Output: (1, 4)"
      ]
    },
    {
      "cell_type": "markdown",
      "id": "8b8c8bef",
      "metadata": {
        "id": "8b8c8bef"
      },
      "source": [
        "### Storing Fixed Data\n",
        "\n",
        "Tuples are ideal for storing data that should not change:"
      ]
    },
    {
      "cell_type": "code",
      "execution_count": null,
      "id": "0f5d9d5e",
      "metadata": {
        "id": "0f5d9d5e"
      },
      "outputs": [],
      "source": [
        "weekdays = (\"Monday\", \"Tuesday\", \"Wednesday\", \"Thursday\", \"Friday\")\n",
        "print(weekdays)"
      ]
    },
    {
      "cell_type": "markdown",
      "id": "4fa43ff4",
      "metadata": {
        "id": "4fa43ff4"
      },
      "source": [
        "## Projects\n",
        "\n",
        "### Project 1: Tuple Operations\n",
        "\n",
        "Write a program that:\n",
        "\n",
        "- Creates a tuple of numbers.\n",
        "- Finds the sum and product of all elements."
      ]
    },
    {
      "cell_type": "code",
      "source": [
        "numbers_tuple : tuple[int] = (1,2,3,4,5)\n",
        "# sumOfNumbers : int _= sum(numbers_tuple)\n",
        "sum = 0\n",
        "productOfNumbers : int = 1\n",
        "for number in numbers_tuple:\n",
        "    productOfNumbers *= number\n",
        "    sum += number\n",
        "print(sum)\n",
        "print(productOfNumbers)"
      ],
      "metadata": {
        "id": "wupFe-DM4N2Z",
        "outputId": "717d116b-1cd5-4d0e-bed8-c2169d3c60f9",
        "colab": {
          "base_uri": "https://localhost:8080/"
        }
      },
      "id": "wupFe-DM4N2Z",
      "execution_count": 2,
      "outputs": [
        {
          "output_type": "stream",
          "name": "stdout",
          "text": [
            "15\n",
            "120\n"
          ]
        }
      ]
    },
    {
      "cell_type": "markdown",
      "source": [
        "### Project 2: Number Classification\n",
        "**Build a program that:**\n",
        "\n",
        "- Uses list comprehension to classify numbers in a range from 1 to 5 as \"odd\" or \"even.\"\n",
        "- Outputs a list of tuples where each tuple contains the number and its classification.\n",
        "\n",
        "**Break into step by step:**\n",
        "\n",
        "You need to create a program that:\n",
        "- Iterates over a range of numbers from 1 to 5.\n",
        "- Uses list comprehension to classify each number as either \"odd\" or \"even.\"\n",
        "- Outputs a list of tuples, where each tuple contains:\n",
        "  - The number.\n",
        "  - Its classification (\"odd\" or \"even\")."
      ],
      "metadata": {
        "id": "1PFAtSCvw-Pr"
      },
      "id": "1PFAtSCvw-Pr"
    },
    {
      "cell_type": "markdown",
      "id": "e9be6d8a",
      "metadata": {
        "id": "e9be6d8a"
      },
      "source": [
        "### Project 3: Contact Book\n",
        "\n",
        "Create a dictionary where keys are tuples (name, phone number) and values are addresses."
      ]
    },
    {
      "cell_type": "markdown",
      "id": "8ebd4ea6",
      "metadata": {
        "id": "8ebd4ea6"
      },
      "source": [
        "## Conclusion\n",
        "\n",
        "Tuples are a fundamental data structure in Python, offering immutability, simplicity, and versatility. Whether you're using them for data integrity, as keys in dictionaries, or for returning multiple values, tuples provide a robust solution for various programming scenarios."
      ]
    }
  ],
  "metadata": {
    "colab": {
      "provenance": [],
      "include_colab_link": true
    },
    "language_info": {
      "name": "python"
    },
    "kernelspec": {
      "name": "python3",
      "display_name": "Python 3"
    }
  },
  "nbformat": 4,
  "nbformat_minor": 5
}